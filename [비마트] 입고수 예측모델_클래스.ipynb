{
 "cells": [
  {
   "cell_type": "markdown",
   "metadata": {},
   "source": [
    "## Note\n",
    "\n",
    "- 입고 유형 별로 모델 필요\n",
    "    - 발주입고 (거래처 to 센터)\n",
    "    - 이동입고 (서브센터 또는 통합물류센터 to 각 센터)\n",
    "    - 강북서브센터/강남서브센터/김포통합물류센터\n",
    "    - 통합물류센터는 2020/6/1에 오픈 -> 초기모델에서는 제외\n",
    "- 단위: 센터별/일별/유형별\n",
    "- 예측기간: 근미래 7일\n",
    "- 데이터 제공주기\n",
    "    - 일 1회(오전 시간대)\n",
    "- 전달 포멧\n",
    "    - 임시 수동작업: https://docs.google.com/spreadsheets/d/1zxNTpYxFzus8v4lHAp2LNO3B-LzJw9-b-k35TShTAok/edit#gid=0\n",
    "    - 추후 테이블 자동화 작업 필요 -> 데이터플랫폼팀에 요청\n",
    "- type='rcvng_ord' 발주입고\n",
    "- type='rcvng_invtrford' 이동입고 \n",
    "- 센터 in조건: B마트 강남, B마트 노원, B마트 영등포, B마트 용산, B마트 마포, B마트 광진, B마트 송파, B마트 강북    "
   ]
  },
  {
   "cell_type": "code",
   "execution_count": 1,
   "metadata": {
    "scrolled": false
   },
   "outputs": [],
   "source": [
    "import os\n",
    "import findspark\n",
    "from pyspark.sql import SparkSession, SQLContext\n",
    "import pandas as pd\n",
    "import numpy as np\n",
    "from datetime import datetime, timedelta\n",
    "from lightgbm import LGBMRegressor\n",
    "\n",
    "lgb_reg = LGBMRegressor(objective='regression')\n",
    "os.environ['SPARK_HOME'] = '/usr/hdp/current/spark2-client/'\n",
    "findspark.init()\n",
    "sc = SparkSession.builder \\\n",
    "         .master(\"yarn\") \\\n",
    "         .appName(\"bmart_warehouse_predict_test\") \\\n",
    "         .enableHiveSupport() \\\n",
    "         .getOrCreate()\n",
    "spark = SQLContext(sc)"
   ]
  },
  {
   "cell_type": "code",
   "execution_count": 2,
   "metadata": {},
   "outputs": [],
   "source": [
    "class BmartWarehousePredModel:\n",
    "    \n",
    "    def __init__(self, reg_model, time_period):\n",
    "        self._reg_model = reg_model\n",
    "        self._train_start_dt = (pd.to_datetime('now') - timedelta(days=time_period)).strftime(\"%Y-%m-%d\")\n",
    "        self._std_dt = pd.to_datetime('now').strftime(\"%Y-%m-%d\")\n",
    "        self._pred_end_dt = (pd.to_datetime('now') + timedelta(days=6)).strftime(\"%Y-%m-%d\")\n",
    "\n",
    "    # 학습용 데이터 추출\n",
    "    def fetch_train_df(self, spark):\n",
    "        sql = \"\"\"\n",
    "            select\n",
    "                part_date,            \n",
    "                center_id,\n",
    "                name,\n",
    "                dtype,\n",
    "                cast(sum(qty_io) as int) qty_sum\n",
    "            from market.inventory_history A\n",
    "                inner join market.bm_shop B \n",
    "                    on A.center_id = B.shop_id\n",
    "                    and B.name not like '%우형%'\n",
    "                    and B.address NOT LIKE '%우아한형제도%'\n",
    "                    and B.status = 'ACTIVE'                                \n",
    "            where part_date >= '{start_dt}'\n",
    "                and part_date < '{end_dt}'\n",
    "                and dtype in ('rcvng_ord', 'rcvng_invtrford')\n",
    "                and center_id in ('2', '21', '10', '3', '9', '20', '1', '22')\n",
    "            group by \n",
    "                part_date,\n",
    "                center_id,\n",
    "                name,\n",
    "                dtype             \n",
    "            order by \n",
    "                part_date,\n",
    "                center_id,\n",
    "                name,\n",
    "                dtype\n",
    "                \"\"\".format(start_dt=self._train_start_dt, end_dt=self._std_dt)  \n",
    "        df = spark.sql(sql).toPandas()\n",
    "        return df\n",
    "        \n",
    "    # 휴일 table 추출\n",
    "    def fetch_holiday_df(self, spark):\n",
    "        sql = \"\"\"\n",
    "              select\n",
    "                  date_cd as part_date,\n",
    "                  if(holiday_yn = 'Y', 1, 0) as holiday_yn\n",
    "              from sbbi.dim_date_cd\n",
    "              where date_cd >= '{start_dt}'\n",
    "                  and date_cd < '{end_dt}'\n",
    "              \"\"\".format(start_dt=self._train_start_dt, end_dt=self._pred_end_dt)\n",
    "        holiday = spark.sql(sql).toPandas()\n",
    "        return holiday\n",
    "    \n",
    "    # 전처리\n",
    "    def _preprocessing(self, df, holiday, dtype):\n",
    "        # 날짜 포멧\n",
    "        df['part_date'] = pd.to_datetime(df['part_date'])\n",
    "        holiday['part_date'] = pd.to_datetime(holiday['part_date'])    \n",
    "        df['dayofweek'] = df['part_date'].dt.dayofweek\n",
    "        df = df.merge(holiday, on='part_date', how='left')\n",
    "        df_dtype = df.query(\"dtype == @dtype\").drop(['dtype','name'], axis=1)\n",
    "        return df_dtype\n",
    "    \n",
    "    # 예측기간 더미 데이터프레임\n",
    "    def _create_pred_period(self, center_id, holiday):\n",
    "        pred_date = pd.date_range(start=self._std_dt, end=self._pred_end_dt)\n",
    "        pred_df = pd.DataFrame(pred_date)\n",
    "        pred_df.columns = ['part_date']\n",
    "        pred_df['center_id'] = center_id\n",
    "        pred_df['qty_sum'] = np.nan\n",
    "        pred_df['dayofweek'] = pred_df['part_date'].dt.dayofweek\n",
    "        holiday['part_date'] = pd.to_datetime(holiday['part_date'])\n",
    "        pred_df = pred_df.merge(holiday, on='part_date', how='left')\n",
    "        return pred_df\n",
    "    \n",
    "    # 지점별 학습 및 예측값 산출    \n",
    "    def fit_predict(self, df, holiday, dtype):     \n",
    "        df_type = self._preprocessing(df, holiday, dtype)\n",
    "        \n",
    "        # 센터별 반복\n",
    "        pred_res = pd.DataFrame()\n",
    "        center_list = df_type['center_id'].drop_duplicates().values\n",
    "        for center_id in center_list:\n",
    "            # 센터별 데이터 병합\n",
    "            df2 = df_type.query(\"center_id == @center_id\")\n",
    "            pred_period = self._create_pred_period(center_id, holiday)\n",
    "            df2 = pd.concat([df2, pred_period])\n",
    "\n",
    "            # 이전 동시간 데이터 shift\n",
    "            df2['qty_sum_prev_week'] = df2.groupby([\"center_id\",\"dayofweek\"])['qty_sum'].shift(1)\n",
    "            df2['qty_sum_prev_day'] = df2.groupby(\"center_id\")['qty_sum'].shift(1)\n",
    "            df2['qty_sum_prev_holiday'] = df2.groupby(\"center_id\")['holiday_yn'].shift(1)\n",
    "            df2['qty_sum_next_holiday'] = df2.groupby(\"center_id\")['holiday_yn'].shift(-1)\n",
    "\n",
    "            # 데이터셋 분리\n",
    "            train = df2.query(\"part_date < @self._std_dt\")\n",
    "            test = df2.query(\"part_date >= @self._std_dt\")    \n",
    "            train_X = train.drop(['center_id', 'part_date', 'qty_sum'], axis=1)\n",
    "            train_y = train['qty_sum']\n",
    "            test_X = test.drop(['center_id', 'part_date', 'qty_sum'], axis=1)\n",
    "\n",
    "            # 모델링\n",
    "            lgb_reg = LGBMRegressor(objective='regression')\n",
    "            lgb_reg.fit(train_X, train_y)\n",
    "            pred_df = test[['part_date', 'center_id']].copy()\n",
    "            pred_df['qty_sum'] = lgb_reg.predict(test_X).round(0).astype(int)\n",
    "            pred_res = pred_res.append(pred_df)\n",
    "        \n",
    "        return pred_res"
   ]
  },
  {
   "cell_type": "code",
   "execution_count": 3,
   "metadata": {},
   "outputs": [],
   "source": [
    "time_period = 224\n",
    "\n",
    "pred_test = BmartWarehousePredModel(lgb_reg, time_period)"
   ]
  },
  {
   "cell_type": "code",
   "execution_count": 4,
   "metadata": {},
   "outputs": [],
   "source": [
    "df = pred_test.fetch_train_df(spark)"
   ]
  },
  {
   "cell_type": "code",
   "execution_count": 5,
   "metadata": {},
   "outputs": [],
   "source": [
    "holiday = pred_test.fetch_holiday_df(spark)"
   ]
  },
  {
   "cell_type": "code",
   "execution_count": 6,
   "metadata": {
    "scrolled": true
   },
   "outputs": [],
   "source": [
    "# 발주량 예측\n",
    "pred_res_order = pred_test.fit_predict(df, holiday, 'rcvng_ord')"
   ]
  },
  {
   "cell_type": "code",
   "execution_count": 7,
   "metadata": {},
   "outputs": [
    {
     "data": {
      "text/html": [
       "<div>\n",
       "<style scoped>\n",
       "    .dataframe tbody tr th:only-of-type {\n",
       "        vertical-align: middle;\n",
       "    }\n",
       "\n",
       "    .dataframe tbody tr th {\n",
       "        vertical-align: top;\n",
       "    }\n",
       "\n",
       "    .dataframe thead th {\n",
       "        text-align: right;\n",
       "    }\n",
       "</style>\n",
       "<table border=\"1\" class=\"dataframe\">\n",
       "  <thead>\n",
       "    <tr style=\"text-align: right;\">\n",
       "      <th></th>\n",
       "      <th>part_date</th>\n",
       "      <th>center_id</th>\n",
       "      <th>qty_sum</th>\n",
       "    </tr>\n",
       "  </thead>\n",
       "  <tbody>\n",
       "    <tr>\n",
       "      <th>0</th>\n",
       "      <td>2020-06-19</td>\n",
       "      <td>1</td>\n",
       "      <td>9855</td>\n",
       "    </tr>\n",
       "    <tr>\n",
       "      <th>1</th>\n",
       "      <td>2020-06-20</td>\n",
       "      <td>1</td>\n",
       "      <td>4700</td>\n",
       "    </tr>\n",
       "    <tr>\n",
       "      <th>2</th>\n",
       "      <td>2020-06-21</td>\n",
       "      <td>1</td>\n",
       "      <td>836</td>\n",
       "    </tr>\n",
       "    <tr>\n",
       "      <th>3</th>\n",
       "      <td>2020-06-22</td>\n",
       "      <td>1</td>\n",
       "      <td>3509</td>\n",
       "    </tr>\n",
       "    <tr>\n",
       "      <th>4</th>\n",
       "      <td>2020-06-23</td>\n",
       "      <td>1</td>\n",
       "      <td>2039</td>\n",
       "    </tr>\n",
       "  </tbody>\n",
       "</table>\n",
       "</div>"
      ],
      "text/plain": [
       "   part_date center_id  qty_sum\n",
       "0 2020-06-19         1     9855\n",
       "1 2020-06-20         1     4700\n",
       "2 2020-06-21         1      836\n",
       "3 2020-06-22         1     3509\n",
       "4 2020-06-23         1     2039"
      ]
     },
     "execution_count": 7,
     "metadata": {},
     "output_type": "execute_result"
    }
   ],
   "source": [
    "pred_res_order.head()"
   ]
  },
  {
   "cell_type": "code",
   "execution_count": null,
   "metadata": {},
   "outputs": [],
   "source": [
    "pred_res_order.to_excel(\"pred_res_ord_20200619.xlsx\")"
   ]
  },
  {
   "cell_type": "code",
   "execution_count": 8,
   "metadata": {
    "scrolled": true
   },
   "outputs": [],
   "source": [
    "# 이동량 예측\n",
    "pred_res_tns = pred_test.fit_predict(df, holiday, 'rcvng_invtrford')"
   ]
  },
  {
   "cell_type": "code",
   "execution_count": 11,
   "metadata": {},
   "outputs": [
    {
     "data": {
      "text/html": [
       "<div>\n",
       "<style scoped>\n",
       "    .dataframe tbody tr th:only-of-type {\n",
       "        vertical-align: middle;\n",
       "    }\n",
       "\n",
       "    .dataframe tbody tr th {\n",
       "        vertical-align: top;\n",
       "    }\n",
       "\n",
       "    .dataframe thead th {\n",
       "        text-align: right;\n",
       "    }\n",
       "</style>\n",
       "<table border=\"1\" class=\"dataframe\">\n",
       "  <thead>\n",
       "    <tr style=\"text-align: right;\">\n",
       "      <th></th>\n",
       "      <th>part_date</th>\n",
       "      <th>center_id</th>\n",
       "      <th>qty_sum</th>\n",
       "    </tr>\n",
       "  </thead>\n",
       "  <tbody>\n",
       "    <tr>\n",
       "      <th>0</th>\n",
       "      <td>2020-06-19</td>\n",
       "      <td>1</td>\n",
       "      <td>4544</td>\n",
       "    </tr>\n",
       "    <tr>\n",
       "      <th>1</th>\n",
       "      <td>2020-06-20</td>\n",
       "      <td>1</td>\n",
       "      <td>2309</td>\n",
       "    </tr>\n",
       "    <tr>\n",
       "      <th>2</th>\n",
       "      <td>2020-06-21</td>\n",
       "      <td>1</td>\n",
       "      <td>2632</td>\n",
       "    </tr>\n",
       "    <tr>\n",
       "      <th>3</th>\n",
       "      <td>2020-06-22</td>\n",
       "      <td>1</td>\n",
       "      <td>3135</td>\n",
       "    </tr>\n",
       "    <tr>\n",
       "      <th>4</th>\n",
       "      <td>2020-06-23</td>\n",
       "      <td>1</td>\n",
       "      <td>3237</td>\n",
       "    </tr>\n",
       "  </tbody>\n",
       "</table>\n",
       "</div>"
      ],
      "text/plain": [
       "   part_date center_id  qty_sum\n",
       "0 2020-06-19         1     4544\n",
       "1 2020-06-20         1     2309\n",
       "2 2020-06-21         1     2632\n",
       "3 2020-06-22         1     3135\n",
       "4 2020-06-23         1     3237"
      ]
     },
     "execution_count": 11,
     "metadata": {},
     "output_type": "execute_result"
    }
   ],
   "source": [
    "pred_res_tns.head()"
   ]
  },
  {
   "cell_type": "code",
   "execution_count": null,
   "metadata": {},
   "outputs": [],
   "source": [
    "pred_res_tns.to_excel(\"pred_res_tns_20200619.xlsx\")"
   ]
  },
  {
   "cell_type": "code",
   "execution_count": null,
   "metadata": {},
   "outputs": [],
   "source": []
  }
 ],
 "metadata": {
  "kernelspec": {
   "display_name": "Python 3",
   "language": "python",
   "name": "python3"
  },
  "language_info": {
   "codemirror_mode": {
    "name": "ipython",
    "version": 3
   },
   "file_extension": ".py",
   "mimetype": "text/x-python",
   "name": "python",
   "nbconvert_exporter": "python",
   "pygments_lexer": "ipython3",
   "version": "3.5.5"
  }
 },
 "nbformat": 4,
 "nbformat_minor": 2
}
