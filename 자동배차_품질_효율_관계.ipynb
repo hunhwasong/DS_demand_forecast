{
 "cells": [
  {
   "cell_type": "code",
   "execution_count": 2,
   "metadata": {},
   "outputs": [],
   "source": [
    "%matplotlib inline\n",
    "import pandas as pd\n",
    "import numpy as np\n",
    "import matplotlib.pyplot as plt\n",
    "import seaborn as sns\n",
    "pd.set_option('precision', 4)\n",
    "np.set_printoptions(precision=3)\n",
    "\n",
    "import warnings\n",
    "warnings.filterwarnings('ignore')\n",
    "plt.style.use('seaborn-paper')"
   ]
  },
  {
   "cell_type": "markdown",
   "metadata": {},
   "source": [
    "## 품질 및 효율의 관계/패턴"
   ]
  },
  {
   "cell_type": "code",
   "execution_count": 3,
   "metadata": {},
   "outputs": [],
   "source": [
    "qual = pd.read_csv(\"자동배차_품질_2019_12_02.csv\", index_col=0)\n",
    "effic = pd.read_csv(\"자동배차_효율_2019_12_02.csv\", index_col=0)"
   ]
  },
  {
   "cell_type": "code",
   "execution_count": 4,
   "metadata": {},
   "outputs": [],
   "source": [
    "df = pd.concat([qual, effic], axis=1)"
   ]
  },
  {
   "cell_type": "code",
   "execution_count": 5,
   "metadata": {},
   "outputs": [
    {
     "data": {
      "text/html": [
       "<div>\n",
       "<style scoped>\n",
       "    .dataframe tbody tr th:only-of-type {\n",
       "        vertical-align: middle;\n",
       "    }\n",
       "\n",
       "    .dataframe tbody tr th {\n",
       "        vertical-align: top;\n",
       "    }\n",
       "\n",
       "    .dataframe thead th {\n",
       "        text-align: right;\n",
       "    }\n",
       "</style>\n",
       "<table border=\"1\" class=\"dataframe\">\n",
       "  <thead>\n",
       "    <tr style=\"text-align: right;\">\n",
       "      <th></th>\n",
       "      <th>dlvry_cnt</th>\n",
       "      <th>uniq_rider_cnt</th>\n",
       "      <th>dlvry_cnt_per_rider</th>\n",
       "      <th>intime_target_ratio</th>\n",
       "      <th>intime_guide_ratio</th>\n",
       "      <th>intime_35_ratio</th>\n",
       "      <th>mae_target</th>\n",
       "      <th>mae_pred</th>\n",
       "      <th>dlvry_minute</th>\n",
       "      <th>dlvry_dist_line_km</th>\n",
       "      <th>dlvry_dist_fastest_km</th>\n",
       "      <th>mean_reg_to_consign_minute</th>\n",
       "      <th>mean_consign_to_arrived_minute</th>\n",
       "      <th>mean_arrived_to_pickup_minute</th>\n",
       "      <th>mean_pickup_to_handover_minute</th>\n",
       "      <th>dlvry_cnt</th>\n",
       "      <th>rider_cnt</th>\n",
       "      <th>working_time_hour</th>\n",
       "      <th>dlvry_cnt_per_hour</th>\n",
       "    </tr>\n",
       "    <tr>\n",
       "      <th>business_day</th>\n",
       "      <th></th>\n",
       "      <th></th>\n",
       "      <th></th>\n",
       "      <th></th>\n",
       "      <th></th>\n",
       "      <th></th>\n",
       "      <th></th>\n",
       "      <th></th>\n",
       "      <th></th>\n",
       "      <th></th>\n",
       "      <th></th>\n",
       "      <th></th>\n",
       "      <th></th>\n",
       "      <th></th>\n",
       "      <th></th>\n",
       "      <th></th>\n",
       "      <th></th>\n",
       "      <th></th>\n",
       "      <th></th>\n",
       "    </tr>\n",
       "  </thead>\n",
       "  <tbody>\n",
       "    <tr>\n",
       "      <th>2019-09-01</th>\n",
       "      <td>45263</td>\n",
       "      <td>1320</td>\n",
       "      <td>34</td>\n",
       "      <td>75.9</td>\n",
       "      <td>91.1</td>\n",
       "      <td>53.6</td>\n",
       "      <td>12.8</td>\n",
       "      <td>10.1924</td>\n",
       "      <td>36.0</td>\n",
       "      <td>1.28</td>\n",
       "      <td>1.58</td>\n",
       "      <td>3.2</td>\n",
       "      <td>17.7</td>\n",
       "      <td>3.9</td>\n",
       "      <td>11.3</td>\n",
       "      <td>45263</td>\n",
       "      <td>1320</td>\n",
       "      <td>11951.7</td>\n",
       "      <td>3.8</td>\n",
       "    </tr>\n",
       "    <tr>\n",
       "      <th>2019-09-02</th>\n",
       "      <td>29488</td>\n",
       "      <td>1211</td>\n",
       "      <td>24</td>\n",
       "      <td>82.0</td>\n",
       "      <td>93.9</td>\n",
       "      <td>63.2</td>\n",
       "      <td>13.6</td>\n",
       "      <td>9.4191</td>\n",
       "      <td>32.8</td>\n",
       "      <td>1.24</td>\n",
       "      <td>1.54</td>\n",
       "      <td>2.2</td>\n",
       "      <td>16.4</td>\n",
       "      <td>3.5</td>\n",
       "      <td>10.7</td>\n",
       "      <td>29488</td>\n",
       "      <td>1211</td>\n",
       "      <td>9757.6</td>\n",
       "      <td>3.0</td>\n",
       "    </tr>\n",
       "    <tr>\n",
       "      <th>2019-09-03</th>\n",
       "      <td>30968</td>\n",
       "      <td>1257</td>\n",
       "      <td>24</td>\n",
       "      <td>82.4</td>\n",
       "      <td>93.8</td>\n",
       "      <td>61.4</td>\n",
       "      <td>14.3</td>\n",
       "      <td>9.6339</td>\n",
       "      <td>33.5</td>\n",
       "      <td>1.24</td>\n",
       "      <td>1.54</td>\n",
       "      <td>2.4</td>\n",
       "      <td>16.6</td>\n",
       "      <td>3.6</td>\n",
       "      <td>10.9</td>\n",
       "      <td>30968</td>\n",
       "      <td>1257</td>\n",
       "      <td>10326.7</td>\n",
       "      <td>3.0</td>\n",
       "    </tr>\n",
       "    <tr>\n",
       "      <th>2019-09-04</th>\n",
       "      <td>29460</td>\n",
       "      <td>1148</td>\n",
       "      <td>25</td>\n",
       "      <td>69.0</td>\n",
       "      <td>84.9</td>\n",
       "      <td>61.9</td>\n",
       "      <td>12.1</td>\n",
       "      <td>10.3952</td>\n",
       "      <td>34.2</td>\n",
       "      <td>1.23</td>\n",
       "      <td>1.53</td>\n",
       "      <td>4.1</td>\n",
       "      <td>15.6</td>\n",
       "      <td>3.5</td>\n",
       "      <td>11.0</td>\n",
       "      <td>29460</td>\n",
       "      <td>1148</td>\n",
       "      <td>9738.4</td>\n",
       "      <td>3.0</td>\n",
       "    </tr>\n",
       "    <tr>\n",
       "      <th>2019-09-05</th>\n",
       "      <td>31617</td>\n",
       "      <td>1249</td>\n",
       "      <td>25</td>\n",
       "      <td>63.3</td>\n",
       "      <td>82.3</td>\n",
       "      <td>60.8</td>\n",
       "      <td>10.8</td>\n",
       "      <td>10.3383</td>\n",
       "      <td>34.6</td>\n",
       "      <td>1.25</td>\n",
       "      <td>1.56</td>\n",
       "      <td>4.2</td>\n",
       "      <td>15.8</td>\n",
       "      <td>3.4</td>\n",
       "      <td>11.2</td>\n",
       "      <td>31617</td>\n",
       "      <td>1249</td>\n",
       "      <td>10284.3</td>\n",
       "      <td>3.1</td>\n",
       "    </tr>\n",
       "  </tbody>\n",
       "</table>\n",
       "</div>"
      ],
      "text/plain": [
       "              dlvry_cnt  uniq_rider_cnt  dlvry_cnt_per_rider  \\\n",
       "business_day                                                   \n",
       "2019-09-01        45263            1320                   34   \n",
       "2019-09-02        29488            1211                   24   \n",
       "2019-09-03        30968            1257                   24   \n",
       "2019-09-04        29460            1148                   25   \n",
       "2019-09-05        31617            1249                   25   \n",
       "\n",
       "              intime_target_ratio  intime_guide_ratio  intime_35_ratio  \\\n",
       "business_day                                                             \n",
       "2019-09-01                   75.9                91.1             53.6   \n",
       "2019-09-02                   82.0                93.9             63.2   \n",
       "2019-09-03                   82.4                93.8             61.4   \n",
       "2019-09-04                   69.0                84.9             61.9   \n",
       "2019-09-05                   63.3                82.3             60.8   \n",
       "\n",
       "              mae_target  mae_pred  dlvry_minute  dlvry_dist_line_km  \\\n",
       "business_day                                                           \n",
       "2019-09-01          12.8   10.1924          36.0                1.28   \n",
       "2019-09-02          13.6    9.4191          32.8                1.24   \n",
       "2019-09-03          14.3    9.6339          33.5                1.24   \n",
       "2019-09-04          12.1   10.3952          34.2                1.23   \n",
       "2019-09-05          10.8   10.3383          34.6                1.25   \n",
       "\n",
       "              dlvry_dist_fastest_km  mean_reg_to_consign_minute  \\\n",
       "business_day                                                      \n",
       "2019-09-01                     1.58                         3.2   \n",
       "2019-09-02                     1.54                         2.2   \n",
       "2019-09-03                     1.54                         2.4   \n",
       "2019-09-04                     1.53                         4.1   \n",
       "2019-09-05                     1.56                         4.2   \n",
       "\n",
       "              mean_consign_to_arrived_minute  mean_arrived_to_pickup_minute  \\\n",
       "business_day                                                                  \n",
       "2019-09-01                              17.7                            3.9   \n",
       "2019-09-02                              16.4                            3.5   \n",
       "2019-09-03                              16.6                            3.6   \n",
       "2019-09-04                              15.6                            3.5   \n",
       "2019-09-05                              15.8                            3.4   \n",
       "\n",
       "              mean_pickup_to_handover_minute  dlvry_cnt  rider_cnt  \\\n",
       "business_day                                                         \n",
       "2019-09-01                              11.3      45263       1320   \n",
       "2019-09-02                              10.7      29488       1211   \n",
       "2019-09-03                              10.9      30968       1257   \n",
       "2019-09-04                              11.0      29460       1148   \n",
       "2019-09-05                              11.2      31617       1249   \n",
       "\n",
       "              working_time_hour  dlvry_cnt_per_hour  \n",
       "business_day                                         \n",
       "2019-09-01              11951.7                 3.8  \n",
       "2019-09-02               9757.6                 3.0  \n",
       "2019-09-03              10326.7                 3.0  \n",
       "2019-09-04               9738.4                 3.0  \n",
       "2019-09-05              10284.3                 3.1  "
      ]
     },
     "execution_count": 5,
     "metadata": {},
     "output_type": "execute_result"
    }
   ],
   "source": [
    "df.head()"
   ]
  },
  {
   "cell_type": "code",
   "execution_count": 6,
   "metadata": {},
   "outputs": [
    {
     "data": {
      "text/plain": [
       "90"
      ]
     },
     "execution_count": 6,
     "metadata": {},
     "output_type": "execute_result"
    }
   ],
   "source": [
    "len(df)"
   ]
  },
  {
   "cell_type": "code",
   "execution_count": 5,
   "metadata": {},
   "outputs": [
    {
     "data": {
      "text/plain": [
       "count    90.0000\n",
       "mean     65.9833\n",
       "std       4.9176\n",
       "min      48.8000\n",
       "25%      62.8500\n",
       "50%      66.5000\n",
       "75%      68.9500\n",
       "max      82.4000\n",
       "Name: intime_target_ratio, dtype: float64"
      ]
     },
     "execution_count": 5,
     "metadata": {},
     "output_type": "execute_result"
    }
   ],
   "source": [
    "df['intime_target_ratio'].describe()"
   ]
  },
  {
   "cell_type": "code",
   "execution_count": 6,
   "metadata": {},
   "outputs": [
    {
     "data": {
      "text/plain": [
       "count    90.0000\n",
       "mean     89.5022\n",
       "std       3.3452\n",
       "min      78.6000\n",
       "25%      88.2750\n",
       "50%      90.5500\n",
       "75%      91.8000\n",
       "max      94.1000\n",
       "Name: intime_guide_ratio, dtype: float64"
      ]
     },
     "execution_count": 6,
     "metadata": {},
     "output_type": "execute_result"
    }
   ],
   "source": [
    "df['intime_guide_ratio'].describe()"
   ]
  },
  {
   "cell_type": "code",
   "execution_count": 7,
   "metadata": {},
   "outputs": [
    {
     "data": {
      "text/plain": [
       "count    90.0000\n",
       "mean      2.8378\n",
       "std       0.3262\n",
       "min       2.4000\n",
       "25%       2.6000\n",
       "50%       2.7000\n",
       "75%       3.0000\n",
       "max       3.8000\n",
       "Name: dlvry_cnt_per_hour, dtype: float64"
      ]
     },
     "execution_count": 7,
     "metadata": {},
     "output_type": "execute_result"
    }
   ],
   "source": [
    "df['dlvry_cnt_per_hour'].describe()"
   ]
  },
  {
   "cell_type": "code",
   "execution_count": 8,
   "metadata": {},
   "outputs": [
    {
     "data": {
      "text/html": [
       "<div>\n",
       "<style scoped>\n",
       "    .dataframe tbody tr th:only-of-type {\n",
       "        vertical-align: middle;\n",
       "    }\n",
       "\n",
       "    .dataframe tbody tr th {\n",
       "        vertical-align: top;\n",
       "    }\n",
       "\n",
       "    .dataframe thead th {\n",
       "        text-align: right;\n",
       "    }\n",
       "</style>\n",
       "<table border=\"1\" class=\"dataframe\">\n",
       "  <thead>\n",
       "    <tr style=\"text-align: right;\">\n",
       "      <th></th>\n",
       "      <th>intime_guide_ratio</th>\n",
       "      <th>dlvry_cnt_per_hour</th>\n",
       "    </tr>\n",
       "  </thead>\n",
       "  <tbody>\n",
       "    <tr>\n",
       "      <th>intime_guide_ratio</th>\n",
       "      <td>1.0000</td>\n",
       "      <td>-0.5862</td>\n",
       "    </tr>\n",
       "    <tr>\n",
       "      <th>dlvry_cnt_per_hour</th>\n",
       "      <td>-0.5862</td>\n",
       "      <td>1.0000</td>\n",
       "    </tr>\n",
       "  </tbody>\n",
       "</table>\n",
       "</div>"
      ],
      "text/plain": [
       "                    intime_guide_ratio  dlvry_cnt_per_hour\n",
       "intime_guide_ratio              1.0000             -0.5862\n",
       "dlvry_cnt_per_hour             -0.5862              1.0000"
      ]
     },
     "execution_count": 8,
     "metadata": {},
     "output_type": "execute_result"
    }
   ],
   "source": [
    "df[['intime_guide_ratio', 'dlvry_cnt_per_hour']].corr()"
   ]
  },
  {
   "cell_type": "code",
   "execution_count": 9,
   "metadata": {},
   "outputs": [
    {
     "data": {
      "image/png": "[encoded data removed]",
      "text/plain": [
       "<Figure size 432x288 with 1 Axes>"
      ]
     },
     "metadata": {
      "needs_background": "light"
     },
     "output_type": "display_data"
    }
   ],
   "source": [
    "plt.scatter(df['intime_guide_ratio'], df['dlvry_cnt_per_hour'], color='green')\n",
    "\n",
    "plt.title(\"The Relations between the Quality and Efficiency\")\n",
    "plt.grid(color='lightgrey', alpha=0.5, linestyle='--')\n",
    "plt.xlabel(\"intime_guide_ratio\")\n",
    "plt.ylabel(\"dlvy_cnt_per_hour\")\n",
    "plt.tight_layout()"
   ]
  },
  {
   "cell_type": "code",
   "execution_count": 10,
   "metadata": {},
   "outputs": [
    {
     "data": {
      "image/png": "[encoded data removed]",
      "text/plain": [
       "<Figure size 432x288 with 1 Axes>"
      ]
     },
     "metadata": {
      "needs_background": "light"
     },
     "output_type": "display_data"
    }
   ],
   "source": [
    "sns.distplot(df['intime_guide_ratio'], rug=False, hist=False, kde=True, color='darkblue', label='intime_guide_ratio')\n",
    "\n",
    "plt.grid(color='lightgrey', alpha=0.5, linestyle='--')\n",
    "plt.tight_layout()"
   ]
  },
  {
   "cell_type": "code",
   "execution_count": 11,
   "metadata": {},
   "outputs": [
    {
     "data": {
      "image/png": "[encoded data removed]",
      "text/plain": [
       "<Figure size 432x288 with 1 Axes>"
      ]
     },
     "metadata": {
      "needs_background": "light"
     },
     "output_type": "display_data"
    }
   ],
   "source": [
    "sns.distplot(df['dlvry_cnt_per_hour'], rug=False, hist=False, kde=True, color='red', label='dlvry_cnt_per_hour')\n",
    "\n",
    "plt.grid(color='lightgrey', alpha=0.5, linestyle='--')\n",
    "plt.tight_layout()"
   ]
  },
  {
   "cell_type": "markdown",
   "metadata": {},
   "source": [
    "## 시급 분포"
   ]
  },
  {
   "cell_type": "code",
   "execution_count": 34,
   "metadata": {},
   "outputs": [],
   "source": [
    "salary = pd.read_csv(\"자동배차_시급분포_추출용_2019_12_04.csv\", index_col=0)"
   ]
  },
  {
   "cell_type": "code",
   "execution_count": 35,
   "metadata": {},
   "outputs": [
    {
     "data": {
      "text/html": [
       "<div>\n",
       "<style scoped>\n",
       "    .dataframe tbody tr th:only-of-type {\n",
       "        vertical-align: middle;\n",
       "    }\n",
       "\n",
       "    .dataframe tbody tr th {\n",
       "        vertical-align: top;\n",
       "    }\n",
       "\n",
       "    .dataframe thead th {\n",
       "        text-align: right;\n",
       "    }\n",
       "</style>\n",
       "<table border=\"1\" class=\"dataframe\">\n",
       "  <thead>\n",
       "    <tr style=\"text-align: right;\">\n",
       "      <th></th>\n",
       "      <th>rider_user_id</th>\n",
       "      <th>rider_type</th>\n",
       "      <th>dlvry_cnt</th>\n",
       "      <th>working_time_hour</th>\n",
       "      <th>revenue</th>\n",
       "      <th>rev_per_hour</th>\n",
       "      <th>rev_per_cnt</th>\n",
       "    </tr>\n",
       "    <tr>\n",
       "      <th>business_day</th>\n",
       "      <th></th>\n",
       "      <th></th>\n",
       "      <th></th>\n",
       "      <th></th>\n",
       "      <th></th>\n",
       "      <th></th>\n",
       "      <th></th>\n",
       "    </tr>\n",
       "  </thead>\n",
       "  <tbody>\n",
       "    <tr>\n",
       "      <th>2019-11-24</th>\n",
       "      <td>442400</td>\n",
       "      <td>INDIVIDUAL_OWNER</td>\n",
       "      <td>100</td>\n",
       "      <td>13.5</td>\n",
       "      <td>517500</td>\n",
       "      <td>38333.3</td>\n",
       "      <td>5175</td>\n",
       "    </tr>\n",
       "    <tr>\n",
       "      <th>2019-11-24</th>\n",
       "      <td>BC22320</td>\n",
       "      <td>CROWDSOURCING</td>\n",
       "      <td>13</td>\n",
       "      <td>7.9</td>\n",
       "      <td>66000</td>\n",
       "      <td>8354.4</td>\n",
       "      <td>5076</td>\n",
       "    </tr>\n",
       "    <tr>\n",
       "      <th>2019-11-29</th>\n",
       "      <td>4069</td>\n",
       "      <td>INDIVIDUAL_OWNER</td>\n",
       "      <td>39</td>\n",
       "      <td>11.7</td>\n",
       "      <td>205500</td>\n",
       "      <td>17564.1</td>\n",
       "      <td>5269</td>\n",
       "    </tr>\n",
       "    <tr>\n",
       "      <th>2019-11-29</th>\n",
       "      <td>BC5533</td>\n",
       "      <td>CROWDSOURCING</td>\n",
       "      <td>20</td>\n",
       "      <td>8.5</td>\n",
       "      <td>95500</td>\n",
       "      <td>11235.3</td>\n",
       "      <td>4775</td>\n",
       "    </tr>\n",
       "    <tr>\n",
       "      <th>2019-11-18</th>\n",
       "      <td>BC5783</td>\n",
       "      <td>CROWDSOURCING</td>\n",
       "      <td>8</td>\n",
       "      <td>4.2</td>\n",
       "      <td>29600</td>\n",
       "      <td>7047.6</td>\n",
       "      <td>3700</td>\n",
       "    </tr>\n",
       "  </tbody>\n",
       "</table>\n",
       "</div>"
      ],
      "text/plain": [
       "             rider_user_id        rider_type  dlvry_cnt  working_time_hour  \\\n",
       "business_day                                                                 \n",
       "2019-11-24          442400  INDIVIDUAL_OWNER        100               13.5   \n",
       "2019-11-24         BC22320     CROWDSOURCING         13                7.9   \n",
       "2019-11-29            4069  INDIVIDUAL_OWNER         39               11.7   \n",
       "2019-11-29          BC5533     CROWDSOURCING         20                8.5   \n",
       "2019-11-18          BC5783     CROWDSOURCING          8                4.2   \n",
       "\n",
       "              revenue  rev_per_hour  rev_per_cnt  \n",
       "business_day                                      \n",
       "2019-11-24     517500       38333.3         5175  \n",
       "2019-11-24      66000        8354.4         5076  \n",
       "2019-11-29     205500       17564.1         5269  \n",
       "2019-11-29      95500       11235.3         4775  \n",
       "2019-11-18      29600        7047.6         3700  "
      ]
     },
     "execution_count": 35,
     "metadata": {},
     "output_type": "execute_result"
    }
   ],
   "source": [
    "salary.head()"
   ]
  },
  {
   "cell_type": "code",
   "execution_count": 38,
   "metadata": {},
   "outputs": [
    {
     "data": {
      "text/html": [
       "<div>\n",
       "<style scoped>\n",
       "    .dataframe tbody tr th:only-of-type {\n",
       "        vertical-align: middle;\n",
       "    }\n",
       "\n",
       "    .dataframe tbody tr th {\n",
       "        vertical-align: top;\n",
       "    }\n",
       "\n",
       "    .dataframe thead th {\n",
       "        text-align: right;\n",
       "    }\n",
       "</style>\n",
       "<table border=\"1\" class=\"dataframe\">\n",
       "  <thead>\n",
       "    <tr style=\"text-align: right;\">\n",
       "      <th>rider_type</th>\n",
       "      <th>CROWDSOURCING</th>\n",
       "      <th>INDIVIDUAL_OWNER</th>\n",
       "    </tr>\n",
       "  </thead>\n",
       "  <tbody>\n",
       "    <tr>\n",
       "      <th>count</th>\n",
       "      <td>49761.0000</td>\n",
       "      <td>44625.0000</td>\n",
       "    </tr>\n",
       "    <tr>\n",
       "      <th>mean</th>\n",
       "      <td>12307.4910</td>\n",
       "      <td>15469.2340</td>\n",
       "    </tr>\n",
       "    <tr>\n",
       "      <th>std</th>\n",
       "      <td>5055.4782</td>\n",
       "      <td>5565.0935</td>\n",
       "    </tr>\n",
       "    <tr>\n",
       "      <th>min</th>\n",
       "      <td>605.8000</td>\n",
       "      <td>800.0000</td>\n",
       "    </tr>\n",
       "    <tr>\n",
       "      <th>25%</th>\n",
       "      <td>8717.9000</td>\n",
       "      <td>11500.0000</td>\n",
       "    </tr>\n",
       "    <tr>\n",
       "      <th>50%</th>\n",
       "      <td>12121.2000</td>\n",
       "      <td>15304.3000</td>\n",
       "    </tr>\n",
       "    <tr>\n",
       "      <th>75%</th>\n",
       "      <td>15625.0000</td>\n",
       "      <td>19000.0000</td>\n",
       "    </tr>\n",
       "    <tr>\n",
       "      <th>max</th>\n",
       "      <td>50000.0000</td>\n",
       "      <td>55000.0000</td>\n",
       "    </tr>\n",
       "  </tbody>\n",
       "</table>\n",
       "</div>"
      ],
      "text/plain": [
       "rider_type  CROWDSOURCING  INDIVIDUAL_OWNER\n",
       "count          49761.0000        44625.0000\n",
       "mean           12307.4910        15469.2340\n",
       "std             5055.4782         5565.0935\n",
       "min              605.8000          800.0000\n",
       "25%             8717.9000        11500.0000\n",
       "50%            12121.2000        15304.3000\n",
       "75%            15625.0000        19000.0000\n",
       "max            50000.0000        55000.0000"
      ]
     },
     "execution_count": 38,
     "metadata": {},
     "output_type": "execute_result"
    }
   ],
   "source": [
    "# 라이더 타입별 시급 분포\n",
    "salary.groupby(\"rider_type\")['rev_per_hour'].describe().T"
   ]
  },
  {
   "cell_type": "code",
   "execution_count": 44,
   "metadata": {},
   "outputs": [
    {
     "data": {
      "image/png": "[encoded data removed]",
      "text/plain": [
       "<Figure size 432x288 with 1 Axes>"
      ]
     },
     "metadata": {
      "needs_background": "light"
     },
     "output_type": "display_data"
    }
   ],
   "source": [
    "# 라이더 타입별 시급 분포\n",
    "\n",
    "sns.distplot(salary.query(\"rider_type == 'INDIVIDUAL_OWNER'\")['rev_per_hour'], rug=False, hist=False, kde=True, color='darkblue', label='revenue_per_hour(ind)')\n",
    "sns.distplot(salary.query(\"rider_type == 'CROWDSOURCING'\")['rev_per_hour'], rug=False, hist=False, kde=True, color='red', label='revenue_per_hour(crw)')\n",
    "\n",
    "plt.grid(color='lightgrey', alpha=0.5, linestyle='--')\n",
    "plt.tight_layout()"
   ]
  },
  {
   "cell_type": "code",
   "execution_count": 39,
   "metadata": {},
   "outputs": [
    {
     "data": {
      "text/html": [
       "<div>\n",
       "<style scoped>\n",
       "    .dataframe tbody tr th:only-of-type {\n",
       "        vertical-align: middle;\n",
       "    }\n",
       "\n",
       "    .dataframe tbody tr th {\n",
       "        vertical-align: top;\n",
       "    }\n",
       "\n",
       "    .dataframe thead th {\n",
       "        text-align: right;\n",
       "    }\n",
       "</style>\n",
       "<table border=\"1\" class=\"dataframe\">\n",
       "  <thead>\n",
       "    <tr style=\"text-align: right;\">\n",
       "      <th>rider_type</th>\n",
       "      <th>CROWDSOURCING</th>\n",
       "      <th>INDIVIDUAL_OWNER</th>\n",
       "    </tr>\n",
       "  </thead>\n",
       "  <tbody>\n",
       "    <tr>\n",
       "      <th>count</th>\n",
       "      <td>49761.0000</td>\n",
       "      <td>44625.0000</td>\n",
       "    </tr>\n",
       "    <tr>\n",
       "      <th>mean</th>\n",
       "      <td>4977.6448</td>\n",
       "      <td>5029.7791</td>\n",
       "    </tr>\n",
       "    <tr>\n",
       "      <th>std</th>\n",
       "      <td>534.2769</td>\n",
       "      <td>954.2616</td>\n",
       "    </tr>\n",
       "    <tr>\n",
       "      <th>min</th>\n",
       "      <td>2500.0000</td>\n",
       "      <td>2500.0000</td>\n",
       "    </tr>\n",
       "    <tr>\n",
       "      <th>25%</th>\n",
       "      <td>4925.0000</td>\n",
       "      <td>4900.0000</td>\n",
       "    </tr>\n",
       "    <tr>\n",
       "      <th>50%</th>\n",
       "      <td>5000.0000</td>\n",
       "      <td>5187.0000</td>\n",
       "    </tr>\n",
       "    <tr>\n",
       "      <th>75%</th>\n",
       "      <td>5174.0000</td>\n",
       "      <td>5453.0000</td>\n",
       "    </tr>\n",
       "    <tr>\n",
       "      <th>max</th>\n",
       "      <td>8500.0000</td>\n",
       "      <td>10500.0000</td>\n",
       "    </tr>\n",
       "  </tbody>\n",
       "</table>\n",
       "</div>"
      ],
      "text/plain": [
       "rider_type  CROWDSOURCING  INDIVIDUAL_OWNER\n",
       "count          49761.0000        44625.0000\n",
       "mean            4977.6448         5029.7791\n",
       "std              534.2769          954.2616\n",
       "min             2500.0000         2500.0000\n",
       "25%             4925.0000         4900.0000\n",
       "50%             5000.0000         5187.0000\n",
       "75%             5174.0000         5453.0000\n",
       "max             8500.0000        10500.0000"
      ]
     },
     "execution_count": 39,
     "metadata": {},
     "output_type": "execute_result"
    }
   ],
   "source": [
    "# 라이더 타입별 건당수익 분포\n",
    "salary.groupby(\"rider_type\")['rev_per_cnt'].describe().T"
   ]
  },
  {
   "cell_type": "code",
   "execution_count": 73,
   "metadata": {},
   "outputs": [
    {
     "data": {
      "image/png": "[encoded data removed]",
      "text/plain": [
       "<Figure size 432x288 with 1 Axes>"
      ]
     },
     "metadata": {
      "needs_background": "light"
     },
     "output_type": "display_data"
    }
   ],
   "source": [
    "sns.distplot(salary.query(\"rider_type == 'INDIVIDUAL_OWNER'\")['rev_per_cnt'], rug=False, hist=False, kde=True, color='darkblue', label='rev_per_cnt(ind)')\n",
    "sns.distplot(salary.query(\"rider_type == 'CROWDSOURCING'\")['rev_per_cnt'], rug=False, hist=False, kde=True, color='red', label='rev_per_cnt(crw)')\n",
    "\n",
    "plt.grid(color='lightgrey', alpha=0.5, linestyle='--')\n",
    "plt.tight_layout()"
   ]
  },
  {
   "cell_type": "markdown",
   "metadata": {},
   "source": [
    "## 변동계수 (품질)"
   ]
  },
  {
   "cell_type": "code",
   "execution_count": 12,
   "metadata": {},
   "outputs": [],
   "source": [
    "std = np.std(df['intime_guide_ratio'])\n",
    "mean = df['intime_guide_ratio'].mean()"
   ]
  },
  {
   "cell_type": "code",
   "execution_count": 13,
   "metadata": {},
   "outputs": [
    {
     "name": "stdout",
     "output_type": "stream",
     "text": [
      "3.3265924433195337\n",
      "89.50222222222222\n"
     ]
    }
   ],
   "source": [
    "print(std)\n",
    "print(mean)"
   ]
  },
  {
   "cell_type": "code",
   "execution_count": 14,
   "metadata": {},
   "outputs": [
    {
     "data": {
      "text/plain": [
       "3.71677078035006"
      ]
     },
     "execution_count": 14,
     "metadata": {},
     "output_type": "execute_result"
    }
   ],
   "source": [
    "std/mean * 100"
   ]
  },
  {
   "cell_type": "code",
   "execution_count": 15,
   "metadata": {},
   "outputs": [],
   "source": [
    "df1 = df[['intime_guide_ratio']].copy()"
   ]
  },
  {
   "cell_type": "code",
   "execution_count": 63,
   "metadata": {},
   "outputs": [
    {
     "data": {
      "text/html": [
       "<div>\n",
       "<style scoped>\n",
       "    .dataframe tbody tr th:only-of-type {\n",
       "        vertical-align: middle;\n",
       "    }\n",
       "\n",
       "    .dataframe tbody tr th {\n",
       "        vertical-align: top;\n",
       "    }\n",
       "\n",
       "    .dataframe thead th {\n",
       "        text-align: right;\n",
       "    }\n",
       "</style>\n",
       "<table border=\"1\" class=\"dataframe\">\n",
       "  <thead>\n",
       "    <tr style=\"text-align: right;\">\n",
       "      <th></th>\n",
       "      <th>intime_guide_ratio</th>\n",
       "    </tr>\n",
       "    <tr>\n",
       "      <th>business_day</th>\n",
       "      <th></th>\n",
       "    </tr>\n",
       "  </thead>\n",
       "  <tbody>\n",
       "    <tr>\n",
       "      <th>2019-09-01</th>\n",
       "      <td>91.1</td>\n",
       "    </tr>\n",
       "    <tr>\n",
       "      <th>2019-09-02</th>\n",
       "      <td>93.9</td>\n",
       "    </tr>\n",
       "    <tr>\n",
       "      <th>2019-09-03</th>\n",
       "      <td>93.8</td>\n",
       "    </tr>\n",
       "    <tr>\n",
       "      <th>2019-09-04</th>\n",
       "      <td>84.9</td>\n",
       "    </tr>\n",
       "    <tr>\n",
       "      <th>2019-09-05</th>\n",
       "      <td>82.3</td>\n",
       "    </tr>\n",
       "    <tr>\n",
       "      <th>2019-09-06</th>\n",
       "      <td>86.0</td>\n",
       "    </tr>\n",
       "    <tr>\n",
       "      <th>2019-09-07</th>\n",
       "      <td>83.1</td>\n",
       "    </tr>\n",
       "    <tr>\n",
       "      <th>2019-09-08</th>\n",
       "      <td>82.4</td>\n",
       "    </tr>\n",
       "    <tr>\n",
       "      <th>2019-09-09</th>\n",
       "      <td>89.0</td>\n",
       "    </tr>\n",
       "    <tr>\n",
       "      <th>2019-09-10</th>\n",
       "      <td>79.5</td>\n",
       "    </tr>\n",
       "  </tbody>\n",
       "</table>\n",
       "</div>"
      ],
      "text/plain": [
       "              intime_guide_ratio\n",
       "business_day                    \n",
       "2019-09-01                  91.1\n",
       "2019-09-02                  93.9\n",
       "2019-09-03                  93.8\n",
       "2019-09-04                  84.9\n",
       "2019-09-05                  82.3\n",
       "2019-09-06                  86.0\n",
       "2019-09-07                  83.1\n",
       "2019-09-08                  82.4\n",
       "2019-09-09                  89.0\n",
       "2019-09-10                  79.5"
      ]
     },
     "execution_count": 63,
     "metadata": {},
     "output_type": "execute_result"
    }
   ],
   "source": [
    "df1.head(10)"
   ]
  },
  {
   "cell_type": "code",
   "execution_count": 62,
   "metadata": {},
   "outputs": [],
   "source": [
    "# # raw\n",
    "# df1.intime_guide_ratio.plot(color='darkblue')\n",
    "\n",
    "# plt.title(\"Intime_guide_ratio daily\")\n",
    "# plt.grid(color='lightgrey', alpha=0.5, linestyle='--')\n",
    "# plt.tight_layout()"
   ]
  },
  {
   "cell_type": "code",
   "execution_count": 56,
   "metadata": {},
   "outputs": [
    {
     "data": {
      "image/png": "[encoded data removed]",
      "text/plain": [
       "<Figure size 432x288 with 1 Axes>"
      ]
     },
     "metadata": {
      "needs_background": "light"
     },
     "output_type": "display_data"
    }
   ],
   "source": [
    "# rolling\n",
    "df1.rolling(14)[\"intime_guide_ratio\"].mean().plot(color='darkblue')\n",
    "\n",
    "plt.title(\"Intime_guide_ratio_rolling_mean\")\n",
    "plt.grid(color='lightgrey', alpha=0.5, linestyle='--')\n",
    "plt.tight_layout()"
   ]
  },
  {
   "cell_type": "code",
   "execution_count": 71,
   "metadata": {},
   "outputs": [
    {
     "data": {
      "image/png": "[encoded data removed]",
      "text/plain": [
       "<Figure size 432x288 with 1 Axes>"
      ]
     },
     "metadata": {
      "needs_background": "light"
     },
     "output_type": "display_data"
    }
   ],
   "source": [
    "# rolling, COV\n",
    "df1.rolling(14)[\"intime_guide_ratio\"].apply(lambda x: x.std() / x.mean()).plot(color='red')\n",
    "\n",
    "plt.title(\"Coefficient of variation (Accumulated)\")\n",
    "plt.grid(color='lightgrey', alpha=0.5, linestyle='--')\n",
    "plt.tight_layout()"
   ]
  },
  {
   "cell_type": "code",
   "execution_count": 66,
   "metadata": {},
   "outputs": [
    {
     "data": {
      "text/plain": [
       "business_day\n",
       "2019-09-16    86.7286\n",
       "2019-09-17    86.1786\n",
       "2019-09-18    85.3286\n",
       "2019-09-19    84.6714\n",
       "2019-09-20    84.6429\n",
       "2019-09-21    84.3786\n",
       "2019-09-22    84.1000\n",
       "2019-09-23    84.4357\n",
       "2019-09-24    85.0500\n",
       "2019-09-25    85.1643\n",
       "2019-09-26    86.0786\n",
       "2019-09-27    86.5929\n",
       "2019-09-28    86.5429\n",
       "2019-09-29    86.4714\n",
       "2019-09-30    86.5714\n",
       "2019-10-01    87.1714\n",
       "2019-10-02    87.6857\n",
       "2019-10-03    87.9714\n",
       "2019-10-04    88.5286\n",
       "2019-10-05    89.4071\n",
       "Name: intime_guide_ratio, dtype: float64"
      ]
     },
     "execution_count": 66,
     "metadata": {},
     "output_type": "execute_result"
    }
   ],
   "source": [
    "df1.rolling(14)[\"intime_guide_ratio\"].mean().dropna()[:20]"
   ]
  },
  {
   "cell_type": "code",
   "execution_count": 70,
   "metadata": {},
   "outputs": [
    {
     "data": {
      "text/plain": [
       "business_day\n",
       "2019-09-16    0.0493\n",
       "2019-09-17    0.0484\n",
       "2019-09-18    0.0433\n",
       "2019-09-19    0.0337\n",
       "2019-09-20    0.0337\n",
       "2019-09-21    0.0380\n",
       "2019-09-22    0.0383\n",
       "2019-09-23    0.0396\n",
       "2019-09-24    0.0433\n",
       "2019-09-25    0.0449\n",
       "2019-09-26    0.0452\n",
       "2019-09-27    0.0457\n",
       "2019-09-28    0.0456\n",
       "2019-09-29    0.0454\n",
       "2019-09-30    0.0465\n",
       "2019-10-01    0.0474\n",
       "2019-10-02    0.0444\n",
       "2019-10-03    0.0432\n",
       "2019-10-04    0.0432\n",
       "2019-10-05    0.0301\n",
       "Name: intime_guide_ratio, dtype: float64"
      ]
     },
     "execution_count": 70,
     "metadata": {},
     "output_type": "execute_result"
    }
   ],
   "source": [
    "df1.rolling(14)[\"intime_guide_ratio\"].apply(lambda x: x.std() / x.mean()).dropna()[:20]"
   ]
  },
  {
   "cell_type": "code",
   "execution_count": null,
   "metadata": {},
   "outputs": [],
   "source": []
  }
 ],
 "metadata": {
  "kernelspec": {
   "display_name": "Python 3",
   "language": "python",
   "name": "python3"
  },
  "language_info": {
   "codemirror_mode": {
    "name": "ipython",
    "version": 3
   },
   "file_extension": ".py",
   "mimetype": "text/x-python",
   "name": "python",
   "nbconvert_exporter": "python",
   "pygments_lexer": "ipython3",
   "version": "3.7.1"
  }
 },
 "nbformat": 4,
 "nbformat_minor": 2
}
